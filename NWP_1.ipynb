{
  "nbformat": 4,
  "nbformat_minor": 0,
  "metadata": {
    "colab": {
      "provenance": [],
      "gpuType": "T4"
    },
    "kernelspec": {
      "name": "python3",
      "display_name": "Python 3"
    },
    "language_info": {
      "name": "python"
    },
    "accelerator": "GPU"
  },
  "cells": [
    {
      "cell_type": "code",
      "execution_count": null,
      "metadata": {
        "id": "LxZgLe5qblcx"
      },
      "outputs": [],
      "source": [
        "import numpy as np\n",
        "import tensorflow as tf\n",
        "from tensorflow.keras.preprocessing.text import Tokenizer\n",
        "from tensorflow.keras.preprocessing.sequence import pad_sequences\n",
        "from tensorflow.keras.models import Sequential\n",
        "from tensorflow.keras.layers import Embedding, LSTM, Dense\n",
        "\n",
        "# Read the text file\n",
        "with open('/content/sherlock-holm.es_stories_plain-text_advs.txt', 'r', encoding='utf-8') as file:\n",
        "    text = file.read()"
      ]
    },
    {
      "cell_type": "code",
      "source": [
        "tokenizer = Tokenizer()\n",
        "tokenizer.fit_on_texts([text])\n",
        "total_words = len(tokenizer.word_index) + 1"
      ],
      "metadata": {
        "id": "X86sWSUrb1zT"
      },
      "execution_count": null,
      "outputs": []
    },
    {
      "cell_type": "code",
      "source": [
        "input_sequences = []\n",
        "for line in text.split('\\n'):\n",
        "    token_list = tokenizer.texts_to_sequences([line])[0]\n",
        "    for i in range(1, len(token_list)):\n",
        "        n_gram_sequence = token_list[:i+1]\n",
        "        input_sequences.append(n_gram_sequence)"
      ],
      "metadata": {
        "id": "hnG59x8qb6cS"
      },
      "execution_count": null,
      "outputs": []
    },
    {
      "cell_type": "code",
      "source": [
        "max_sequence_len = max([len(seq) for seq in input_sequences])\n",
        "input_sequences = np.array(pad_sequences(input_sequences, maxlen=max_sequence_len, padding='pre'))"
      ],
      "metadata": {
        "id": "FTv9TQ4kcAYj"
      },
      "execution_count": null,
      "outputs": []
    },
    {
      "cell_type": "code",
      "source": [
        "X = input_sequences[:, :-1]\n",
        "y = input_sequences[:, -1]"
      ],
      "metadata": {
        "id": "1BE40gkacE9j"
      },
      "execution_count": null,
      "outputs": []
    },
    {
      "cell_type": "code",
      "source": [
        "y = np.array(tf.keras.utils.to_categorical(y, num_classes=total_words))"
      ],
      "metadata": {
        "id": "6BHQBW-0cYEC"
      },
      "execution_count": null,
      "outputs": []
    },
    {
      "cell_type": "code",
      "source": [
        "model = Sequential()\n",
        "model.add(Embedding(total_words, 100, input_length=max_sequence_len-1))\n",
        "model.add(LSTM(150))\n",
        "model.add(Dense(total_words, activation='softmax'))\n",
        "print(model.summary())"
      ],
      "metadata": {
        "colab": {
          "base_uri": "https://localhost:8080/"
        },
        "id": "Cm1IqVQFcaR6",
        "outputId": "ae0751a8-6bbc-4a90-fb2b-8ce788822553"
      },
      "execution_count": null,
      "outputs": [
        {
          "output_type": "stream",
          "name": "stdout",
          "text": [
            "Model: \"sequential\"\n",
            "_________________________________________________________________\n",
            " Layer (type)                Output Shape              Param #   \n",
            "=================================================================\n",
            " embedding (Embedding)       (None, 17, 100)           820000    \n",
            "                                                                 \n",
            " lstm (LSTM)                 (None, 150)               150600    \n",
            "                                                                 \n",
            " dense (Dense)               (None, 8200)              1238200   \n",
            "                                                                 \n",
            "=================================================================\n",
            "Total params: 2208800 (8.43 MB)\n",
            "Trainable params: 2208800 (8.43 MB)\n",
            "Non-trainable params: 0 (0.00 Byte)\n",
            "_________________________________________________________________\n",
            "None\n"
          ]
        }
      ]
    },
    {
      "cell_type": "code",
      "source": [
        "model.compile(loss='categorical_crossentropy', optimizer='adam', metrics=['accuracy'])\n",
        "model.fit(X, y, epochs=50\n",
        "\n",
        "          )"
      ],
      "metadata": {
        "colab": {
          "base_uri": "https://localhost:8080/"
        },
        "id": "RDS1c0_IRjZ8",
        "outputId": "9b2b32b3-5cf3-4592-8dc9-8abed381d8dd"
      },
      "execution_count": null,
      "outputs": [
        {
          "output_type": "stream",
          "name": "stdout",
          "text": [
            "Epoch 1/50\n",
            "3010/3010 [==============================] - 103s 33ms/step - loss: 6.2639 - accuracy: 0.0739\n",
            "Epoch 2/50\n",
            "3010/3010 [==============================] - 102s 34ms/step - loss: 5.5533 - accuracy: 0.1211\n",
            "Epoch 3/50\n",
            "3010/3010 [==============================] - 103s 34ms/step - loss: 5.1715 - accuracy: 0.1455\n",
            "Epoch 4/50\n",
            "3010/3010 [==============================] - 102s 34ms/step - loss: 4.8444 - accuracy: 0.1635\n",
            "Epoch 5/50\n",
            "3010/3010 [==============================] - 100s 33ms/step - loss: 4.5427 - accuracy: 0.1799\n",
            "Epoch 6/50\n",
            "3010/3010 [==============================] - 103s 34ms/step - loss: 4.2504 - accuracy: 0.1988\n",
            "Epoch 7/50\n",
            "3010/3010 [==============================] - 102s 34ms/step - loss: 3.9709 - accuracy: 0.2235\n",
            "Epoch 8/50\n",
            "3010/3010 [==============================] - 102s 34ms/step - loss: 3.7043 - accuracy: 0.2536\n",
            "Epoch 9/50\n",
            "3010/3010 [==============================] - 103s 34ms/step - loss: 3.4533 - accuracy: 0.2891\n",
            "Epoch 10/50\n",
            "3010/3010 [==============================] - 103s 34ms/step - loss: 3.2243 - accuracy: 0.3233\n",
            "Epoch 11/50\n",
            "3010/3010 [==============================] - 102s 34ms/step - loss: 3.0070 - accuracy: 0.3600\n",
            "Epoch 12/50\n",
            "3010/3010 [==============================] - 103s 34ms/step - loss: 2.8080 - accuracy: 0.3950\n",
            "Epoch 13/50\n",
            "3010/3010 [==============================] - 102s 34ms/step - loss: 2.6269 - accuracy: 0.4296\n",
            "Epoch 14/50\n",
            "3010/3010 [==============================] - 102s 34ms/step - loss: 2.4581 - accuracy: 0.4621\n",
            "Epoch 15/50\n",
            "3010/3010 [==============================] - 102s 34ms/step - loss: 2.3031 - accuracy: 0.4928\n",
            "Epoch 16/50\n",
            "3010/3010 [==============================] - 102s 34ms/step - loss: 2.1625 - accuracy: 0.5202\n",
            "Epoch 17/50\n",
            "3010/3010 [==============================] - 102s 34ms/step - loss: 2.0323 - accuracy: 0.5480\n",
            "Epoch 18/50\n",
            "3010/3010 [==============================] - 102s 34ms/step - loss: 1.9122 - accuracy: 0.5719\n",
            "Epoch 19/50\n",
            "3010/3010 [==============================] - 102s 34ms/step - loss: 1.8026 - accuracy: 0.5959\n",
            "Epoch 20/50\n",
            "3010/3010 [==============================] - 101s 34ms/step - loss: 1.7038 - accuracy: 0.6170\n",
            "Epoch 21/50\n",
            "3010/3010 [==============================] - 101s 34ms/step - loss: 1.6084 - accuracy: 0.6384\n",
            "Epoch 22/50\n",
            "3010/3010 [==============================] - 102s 34ms/step - loss: 1.5256 - accuracy: 0.6553\n",
            "Epoch 23/50\n",
            "3010/3010 [==============================] - 102s 34ms/step - loss: 1.4489 - accuracy: 0.6715\n",
            "Epoch 24/50\n",
            "3010/3010 [==============================] - 102s 34ms/step - loss: 1.3774 - accuracy: 0.6900\n",
            "Epoch 25/50\n",
            "3010/3010 [==============================] - 99s 33ms/step - loss: 1.3102 - accuracy: 0.7032\n",
            "Epoch 26/50\n",
            "3010/3010 [==============================] - 99s 33ms/step - loss: 1.2508 - accuracy: 0.7168\n",
            "Epoch 27/50\n",
            "3010/3010 [==============================] - 98s 33ms/step - loss: 1.1976 - accuracy: 0.7277\n",
            "Epoch 28/50\n",
            "3010/3010 [==============================] - 98s 33ms/step - loss: 1.1456 - accuracy: 0.7390\n",
            "Epoch 29/50\n",
            "3010/3010 [==============================] - 99s 33ms/step - loss: 1.0999 - accuracy: 0.7498\n",
            "Epoch 30/50\n",
            "3010/3010 [==============================] - 98s 33ms/step - loss: 1.0577 - accuracy: 0.7587\n",
            "Epoch 31/50\n",
            "3010/3010 [==============================] - 99s 33ms/step - loss: 1.0175 - accuracy: 0.7676\n",
            "Epoch 32/50\n",
            "3010/3010 [==============================] - 98s 33ms/step - loss: 0.9812 - accuracy: 0.7761\n",
            "Epoch 33/50\n",
            "3010/3010 [==============================] - 99s 33ms/step - loss: 0.9465 - accuracy: 0.7833\n",
            "Epoch 34/50\n",
            "3010/3010 [==============================] - 98s 32ms/step - loss: 0.9163 - accuracy: 0.7900\n",
            "Epoch 35/50\n",
            "3010/3010 [==============================] - 98s 33ms/step - loss: 0.8874 - accuracy: 0.7955\n",
            "Epoch 36/50\n",
            "3010/3010 [==============================] - 98s 33ms/step - loss: 0.8615 - accuracy: 0.8014\n",
            "Epoch 37/50\n",
            "3010/3010 [==============================] - 98s 32ms/step - loss: 0.8351 - accuracy: 0.8065\n",
            "Epoch 38/50\n",
            "3010/3010 [==============================] - 98s 33ms/step - loss: 0.8123 - accuracy: 0.8116\n",
            "Epoch 39/50\n",
            "3010/3010 [==============================] - 98s 33ms/step - loss: 0.7952 - accuracy: 0.8146\n",
            "Epoch 40/50\n",
            "3010/3010 [==============================] - 98s 33ms/step - loss: 0.7730 - accuracy: 0.8192\n",
            "Epoch 41/50\n",
            "3010/3010 [==============================] - 98s 33ms/step - loss: 0.7564 - accuracy: 0.8233\n",
            "Epoch 42/50\n",
            "3010/3010 [==============================] - 99s 33ms/step - loss: 0.7431 - accuracy: 0.8250\n",
            "Epoch 43/50\n",
            "3010/3010 [==============================] - 98s 33ms/step - loss: 0.7254 - accuracy: 0.8290\n",
            "Epoch 44/50\n",
            "3010/3010 [==============================] - 98s 33ms/step - loss: 0.7108 - accuracy: 0.8315\n",
            "Epoch 45/50\n",
            "3010/3010 [==============================] - 98s 32ms/step - loss: 0.7023 - accuracy: 0.8324\n",
            "Epoch 46/50\n",
            "3010/3010 [==============================] - 98s 33ms/step - loss: 0.6886 - accuracy: 0.8365\n",
            "Epoch 47/50\n",
            "3010/3010 [==============================] - 99s 33ms/step - loss: 0.6789 - accuracy: 0.8379\n",
            "Epoch 48/50\n",
            "3010/3010 [==============================] - 100s 33ms/step - loss: 0.6654 - accuracy: 0.8409\n",
            "Epoch 49/50\n",
            "3010/3010 [==============================] - 101s 34ms/step - loss: 0.6571 - accuracy: 0.8421\n",
            "Epoch 50/50\n",
            "3010/3010 [==============================] - 101s 33ms/step - loss: 0.6475 - accuracy: 0.8441\n"
          ]
        },
        {
          "output_type": "execute_result",
          "data": {
            "text/plain": [
              "<keras.src.callbacks.History at 0x7e7e81e32830>"
            ]
          },
          "metadata": {},
          "execution_count": 8
        }
      ]
    },
    {
      "cell_type": "code",
      "source": [
        "seed_text = \"I will leave if they\"\n",
        "next_words = 3\n",
        "\n",
        "for _ in range(next_words):\n",
        "    token_list = tokenizer.texts_to_sequences([seed_text])[0]\n",
        "    token_list = pad_sequences([token_list], maxlen=max_sequence_len-1, padding='pre')\n",
        "    predicted = np.argmax(model.predict(token_list), axis=-1)\n",
        "    output_word = \"\"\n",
        "    for word, index in tokenizer.word_index.items():\n",
        "        if index == predicted:\n",
        "            output_word = word\n",
        "            break\n",
        "    seed_text += \" \" + output_word\n",
        "\n",
        "print(seed_text)"
      ],
      "metadata": {
        "colab": {
          "base_uri": "https://localhost:8080/"
        },
        "id": "nUoYUharSrIl",
        "outputId": "d44034a5-0e45-4d01-bd8c-4a2bdf5f06ff"
      },
      "execution_count": null,
      "outputs": [
        {
          "output_type": "stream",
          "name": "stdout",
          "text": [
            "1/1 [==============================] - 1s 532ms/step\n",
            "1/1 [==============================] - 0s 20ms/step\n",
            "1/1 [==============================] - 0s 19ms/step\n",
            "I will leave if they can come from\n"
          ]
        }
      ]
    }
  ]
}